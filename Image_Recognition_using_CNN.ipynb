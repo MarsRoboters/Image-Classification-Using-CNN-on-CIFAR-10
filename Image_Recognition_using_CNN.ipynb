{
  "cells": [
    {
      "cell_type": "code",
      "execution_count": 3,
      "metadata": {
        "id": "KLNuWWTq8GlV"
      },
      "outputs": [],
      "source": [
        "import numpy as np\n",
        "from keras.models import Sequential\n",
        "from keras.layers import Dense, Dropout, Flatten, BatchNormalization, Activation\n",
        "from keras.layers.convolutional import  Conv2D, MaxPooling2D\n",
        "from keras.constraints import maxnorm\n",
        "from keras.utils import np_utils"
      ]
    },
    {
      "cell_type": "code",
      "execution_count": 4,
      "metadata": {
        "id": "HLHVSQ9C8hte"
      },
      "outputs": [],
      "source": [
        "from keras.datasets import cifar10"
      ]
    },
    {
      "cell_type": "code",
      "execution_count": 5,
      "metadata": {
        "id": "gfFTtb4E95oq"
      },
      "outputs": [],
      "source": [
        "# Inputs:  x_train, x_test \n",
        "# Outputs: y_train, y_test\n",
        "\n",
        "(x_train, y_train), (x_test, y_test) = cifar10.load_data()"
      ]
    },
    {
      "cell_type": "code",
      "execution_count": null,
      "metadata": {
        "id": "eBoKgcFV-PcF"
      },
      "outputs": [],
      "source": [
        "# print(x_test)"
      ]
    },
    {
      "cell_type": "code",
      "execution_count": 6,
      "metadata": {
        "id": "t8joRYUh-nbN"
      },
      "outputs": [],
      "source": [
        "## Normalization of preprocessed data\n",
        "\n",
        "x_train = x_train.astype('float32')\n",
        "x_test  = x_test.astype('float32')\n",
        "\n",
        " # To make all data b/w 0 and 1 form\n",
        "\n",
        "x_train = x_train / 255.0\n",
        "x_test  = x_test / 255.0"
      ]
    },
    {
      "cell_type": "code",
      "execution_count": 7,
      "metadata": {
        "id": "J9mMUq0L_GJ-"
      },
      "outputs": [],
      "source": [
        "# Normalizing the output using the one-hot encoding for categorical data\n",
        "y_train = np_utils.to_categorical(y_train)\n",
        "y_test  = np_utils.to_categorical(y_test)\n",
        "\n",
        "# Calculating the number of classes(How my data is group by classes) in Neural Network: \n",
        "# we use this to see how many neurons we need to compress the final layer\n",
        "class_num = y_test.shape[1] # Called Shape to see all the classes for the data"
      ]
    },
    {
      "cell_type": "code",
      "execution_count": 8,
      "metadata": {
        "id": "xNhuHHVXBDDw"
      },
      "outputs": [],
      "source": [
        "model = Sequential()"
      ]
    },
    {
      "cell_type": "code",
      "execution_count": 9,
      "metadata": {
        "id": "wHpGaYRVFw9U"
      },
      "outputs": [],
      "source": [
        "model.add(Conv2D(32, (3,3), input_shape = x_train.shape[1:], padding = 'same'))\n",
        "model.add(Activation('relu'))"
      ]
    },
    {
      "cell_type": "code",
      "execution_count": 10,
      "metadata": {
        "id": "m4hq8_OYHJv3"
      },
      "outputs": [],
      "source": [
        "model.add(Conv2D(32, (3,3), input_shape = (3, 32, 32), activation='relu', padding = 'same') )"
      ]
    },
    {
      "cell_type": "code",
      "execution_count": 11,
      "metadata": {
        "id": "kk7s6WgpIIzs"
      },
      "outputs": [],
      "source": [
        "# Dropout function to prevent overfitting\n",
        "model.add(Dropout(0.2))"
      ]
    },
    {
      "cell_type": "code",
      "execution_count": 12,
      "metadata": {
        "id": "6mnAKcNtIQ95"
      },
      "outputs": [],
      "source": [
        "# To normalize the input to the next layer: We ensure that the network always create a activation with the same distribution\n",
        "# Keep normaliziling the data at each layer\n",
        "model.add(BatchNormalization())"
      ]
    },
    {
      "cell_type": "code",
      "execution_count": 13,
      "metadata": {
        "id": "fFvTFNKkIeg0"
      },
      "outputs": [],
      "source": [
        "model.add(Conv2D(64, (3,3), padding = 'same', activation='relu'))\n",
        "model.add(Activation('relu'))"
      ]
    },
    {
      "cell_type": "code",
      "execution_count": 14,
      "metadata": {
        "id": "kPOK4ZReJIu2"
      },
      "outputs": [],
      "source": [
        "# To abstract the unnecessary part of the image\n",
        "# and keeping only the part of the image that the model thinks that are relevant\n",
        "model.add(MaxPooling2D(pool_size=(2,2)))\n",
        "model.add(Dropout(0.2))\n",
        "model.add(BatchNormalization())"
      ]
    },
    {
      "cell_type": "code",
      "execution_count": 15,
      "metadata": {
        "id": "xBhMFBa_JfnZ"
      },
      "outputs": [],
      "source": [
        "model.add(Conv2D(64, (3,3), padding='same'))\n",
        "model.add(Activation('relu'))\n",
        "model.add(MaxPooling2D(pool_size=(2,2)))\n",
        "model.add(Dropout(0.2))\n",
        "model.add(BatchNormalization())\n",
        "\n",
        "model.add(Conv2D(128, (3,3), padding='same'))\n",
        "model.add(Activation('relu'))\n",
        "model.add(Dropout(0.2))\n",
        "model.add(BatchNormalization())\n",
        "\n",
        "model.add(Conv2D(256, (3,3), padding='same'))\n",
        "model.add(Activation('relu'))\n",
        "model.add(Dropout(0.2))\n",
        "model.add(BatchNormalization())"
      ]
    },
    {
      "cell_type": "code",
      "execution_count": 16,
      "metadata": {
        "id": "lprVFRYZKa9F"
      },
      "outputs": [],
      "source": [
        "model.add(Flatten())\n",
        "model.add(Dropout(0.2))"
      ]
    },
    {
      "cell_type": "code",
      "execution_count": 17,
      "metadata": {
        "id": "zGU8TeQUsHUG"
      },
      "outputs": [],
      "source": [
        "model.add(Dense(256, kernel_constraint=maxnorm(3)))\n",
        "model.add(Activation('relu'))\n",
        "model.add(Dropout(0.2))\n",
        "model.add(BatchNormalization())\n",
        "\n",
        "model.add(Dense(128, kernel_constraint=maxnorm(3)))\n",
        "model.add(Activation('relu'))\n",
        "model.add(Dropout(0.2))\n",
        "model.add(BatchNormalization())"
      ]
    },
    {
      "cell_type": "code",
      "execution_count": 18,
      "metadata": {
        "id": "ImgYuqo2slVY"
      },
      "outputs": [],
      "source": [
        " model.add(Dense(class_num))\n",
        " model.add(Activation('softmax'))"
      ]
    },
    {
      "cell_type": "code",
      "execution_count": 19,
      "metadata": {
        "id": "5ieLuAXPsxJh"
      },
      "outputs": [],
      "source": [
        "epochs = 50\n",
        "\n",
        "optimizer = 'adam'"
      ]
    },
    {
      "cell_type": "code",
      "execution_count": 20,
      "metadata": {
        "id": "atuehN2LtO_i"
      },
      "outputs": [],
      "source": [
        "model.compile(loss='categorical_crossentropy', optimizer=optimizer, metrics=['accuracy'])"
      ]
    },
    {
      "cell_type": "code",
      "execution_count": 21,
      "metadata": {
        "colab": {
          "base_uri": "https://localhost:8080/"
        },
        "id": "4EFgOC1ztnjI",
        "outputId": "efaabb8c-48ca-4e2b-b481-108ee4cee0b6"
      },
      "outputs": [
        {
          "name": "stdout",
          "output_type": "stream",
          "text": [
            "Model: \"sequential\"\n",
            "_________________________________________________________________\n",
            " Layer (type)                Output Shape              Param #   \n",
            "=================================================================\n",
            " conv2d (Conv2D)             (None, 32, 32, 32)        896       \n",
            "                                                                 \n",
            " activation (Activation)     (None, 32, 32, 32)        0         \n",
            "                                                                 \n",
            " conv2d_1 (Conv2D)           (None, 32, 32, 32)        9248      \n",
            "                                                                 \n",
            " dropout (Dropout)           (None, 32, 32, 32)        0         \n",
            "                                                                 \n",
            " batch_normalization (BatchN  (None, 32, 32, 32)       128       \n",
            " ormalization)                                                   \n",
            "                                                                 \n",
            " conv2d_2 (Conv2D)           (None, 32, 32, 64)        18496     \n",
            "                                                                 \n",
            " activation_1 (Activation)   (None, 32, 32, 64)        0         \n",
            "                                                                 \n",
            " max_pooling2d (MaxPooling2D  (None, 16, 16, 64)       0         \n",
            " )                                                               \n",
            "                                                                 \n",
            " dropout_1 (Dropout)         (None, 16, 16, 64)        0         \n",
            "                                                                 \n",
            " batch_normalization_1 (Batc  (None, 16, 16, 64)       256       \n",
            " hNormalization)                                                 \n",
            "                                                                 \n",
            " conv2d_3 (Conv2D)           (None, 16, 16, 64)        36928     \n",
            "                                                                 \n",
            " activation_2 (Activation)   (None, 16, 16, 64)        0         \n",
            "                                                                 \n",
            " max_pooling2d_1 (MaxPooling  (None, 8, 8, 64)         0         \n",
            " 2D)                                                             \n",
            "                                                                 \n",
            " dropout_2 (Dropout)         (None, 8, 8, 64)          0         \n",
            "                                                                 \n",
            " batch_normalization_2 (Batc  (None, 8, 8, 64)         256       \n",
            " hNormalization)                                                 \n",
            "                                                                 \n",
            " conv2d_4 (Conv2D)           (None, 8, 8, 128)         73856     \n",
            "                                                                 \n",
            " activation_3 (Activation)   (None, 8, 8, 128)         0         \n",
            "                                                                 \n",
            " dropout_3 (Dropout)         (None, 8, 8, 128)         0         \n",
            "                                                                 \n",
            " batch_normalization_3 (Batc  (None, 8, 8, 128)        512       \n",
            " hNormalization)                                                 \n",
            "                                                                 \n",
            " conv2d_5 (Conv2D)           (None, 8, 8, 256)         295168    \n",
            "                                                                 \n",
            " activation_4 (Activation)   (None, 8, 8, 256)         0         \n",
            "                                                                 \n",
            " dropout_4 (Dropout)         (None, 8, 8, 256)         0         \n",
            "                                                                 \n",
            " batch_normalization_4 (Batc  (None, 8, 8, 256)        1024      \n",
            " hNormalization)                                                 \n",
            "                                                                 \n",
            " flatten (Flatten)           (None, 16384)             0         \n",
            "                                                                 \n",
            " dropout_5 (Dropout)         (None, 16384)             0         \n",
            "                                                                 \n",
            " dense (Dense)               (None, 256)               4194560   \n",
            "                                                                 \n",
            " activation_5 (Activation)   (None, 256)               0         \n",
            "                                                                 \n",
            " dropout_6 (Dropout)         (None, 256)               0         \n",
            "                                                                 \n",
            " batch_normalization_5 (Batc  (None, 256)              1024      \n",
            " hNormalization)                                                 \n",
            "                                                                 \n",
            " dense_1 (Dense)             (None, 128)               32896     \n",
            "                                                                 \n",
            " activation_6 (Activation)   (None, 128)               0         \n",
            "                                                                 \n",
            " dropout_7 (Dropout)         (None, 128)               0         \n",
            "                                                                 \n",
            " batch_normalization_6 (Batc  (None, 128)              512       \n",
            " hNormalization)                                                 \n",
            "                                                                 \n",
            " dense_2 (Dense)             (None, 10)                1290      \n",
            "                                                                 \n",
            " activation_7 (Activation)   (None, 10)                0         \n",
            "                                                                 \n",
            "=================================================================\n",
            "Total params: 4,667,050\n",
            "Trainable params: 4,665,194\n",
            "Non-trainable params: 1,856\n",
            "_________________________________________________________________\n",
            "None\n"
          ]
        }
      ],
      "source": [
        "print(model.summary())"
      ]
    },
    {
      "cell_type": "code",
      "execution_count": 22,
      "metadata": {
        "colab": {
          "background_save": true,
          "base_uri": "https://localhost:8080/"
        },
        "id": "O3iCnr8Ktqu9",
        "outputId": "d60813f4-8f8e-4f57-cc9e-535c70a6c088"
      },
      "outputs": [
        {
          "name": "stdout",
          "output_type": "stream",
          "text": [
            "Epoch 1/50\n",
            "782/782 [==============================] - 39s 48ms/step - loss: 1.5288 - accuracy: 0.4563 - val_loss: 1.3975 - val_accuracy: 0.5308\n",
            "Epoch 2/50\n",
            "782/782 [==============================] - 37s 47ms/step - loss: 1.0011 - accuracy: 0.6449 - val_loss: 0.8979 - val_accuracy: 0.6871\n",
            "Epoch 3/50\n",
            "782/782 [==============================] - 37s 47ms/step - loss: 0.8150 - accuracy: 0.7177 - val_loss: 0.7642 - val_accuracy: 0.7324\n",
            "Epoch 4/50\n",
            "782/782 [==============================] - 37s 47ms/step - loss: 0.7226 - accuracy: 0.7486 - val_loss: 0.6836 - val_accuracy: 0.7594\n",
            "Epoch 5/50\n",
            "782/782 [==============================] - 37s 47ms/step - loss: 0.6564 - accuracy: 0.7710 - val_loss: 0.6279 - val_accuracy: 0.7809\n",
            "Epoch 6/50\n",
            "782/782 [==============================] - 37s 48ms/step - loss: 0.6152 - accuracy: 0.7849 - val_loss: 0.6095 - val_accuracy: 0.7870\n",
            "Epoch 7/50\n",
            "782/782 [==============================] - 37s 47ms/step - loss: 0.5741 - accuracy: 0.8018 - val_loss: 0.5809 - val_accuracy: 0.8012\n",
            "Epoch 8/50\n",
            "782/782 [==============================] - 37s 47ms/step - loss: 0.5466 - accuracy: 0.8119 - val_loss: 0.5982 - val_accuracy: 0.7914\n",
            "Epoch 9/50\n",
            "782/782 [==============================] - 38s 49ms/step - loss: 0.5211 - accuracy: 0.8206 - val_loss: 0.5787 - val_accuracy: 0.7983\n",
            "Epoch 10/50\n",
            "782/782 [==============================] - 37s 47ms/step - loss: 0.4977 - accuracy: 0.8280 - val_loss: 0.5032 - val_accuracy: 0.8275\n",
            "Epoch 11/50\n",
            "782/782 [==============================] - 103s 131ms/step - loss: 0.4816 - accuracy: 0.8338 - val_loss: 0.4980 - val_accuracy: 0.8299\n",
            "Epoch 12/50\n",
            "782/782 [==============================] - 266s 340ms/step - loss: 0.4625 - accuracy: 0.8403 - val_loss: 0.4841 - val_accuracy: 0.8384\n",
            "Epoch 13/50\n",
            "782/782 [==============================] - 37s 47ms/step - loss: 0.4443 - accuracy: 0.8466 - val_loss: 0.5434 - val_accuracy: 0.8205\n",
            "Epoch 14/50\n",
            "782/782 [==============================] - 37s 47ms/step - loss: 0.4392 - accuracy: 0.8489 - val_loss: 0.5316 - val_accuracy: 0.8230\n",
            "Epoch 15/50\n",
            "782/782 [==============================] - 37s 47ms/step - loss: 0.4176 - accuracy: 0.8548 - val_loss: 0.4999 - val_accuracy: 0.8310\n",
            "Epoch 16/50\n",
            "782/782 [==============================] - 37s 47ms/step - loss: 0.4097 - accuracy: 0.8569 - val_loss: 0.4882 - val_accuracy: 0.8383\n",
            "Epoch 17/50\n",
            "782/782 [==============================] - 37s 47ms/step - loss: 0.3988 - accuracy: 0.8618 - val_loss: 0.5474 - val_accuracy: 0.8194\n",
            "Epoch 18/50\n",
            "782/782 [==============================] - 37s 47ms/step - loss: 0.3940 - accuracy: 0.8626 - val_loss: 0.4909 - val_accuracy: 0.8394\n",
            "Epoch 19/50\n",
            "782/782 [==============================] - 281s 360ms/step - loss: 0.3838 - accuracy: 0.8677 - val_loss: 0.5126 - val_accuracy: 0.8323\n",
            "Epoch 20/50\n",
            "782/782 [==============================] - 326s 417ms/step - loss: 0.3744 - accuracy: 0.8696 - val_loss: 0.4655 - val_accuracy: 0.8453\n",
            "Epoch 21/50\n",
            "782/782 [==============================] - 87s 110ms/step - loss: 0.3719 - accuracy: 0.8722 - val_loss: 0.4896 - val_accuracy: 0.8364\n",
            "Epoch 22/50\n",
            "782/782 [==============================] - 37s 47ms/step - loss: 0.3613 - accuracy: 0.8747 - val_loss: 0.4906 - val_accuracy: 0.8389\n",
            "Epoch 23/50\n",
            "782/782 [==============================] - 37s 47ms/step - loss: 0.3553 - accuracy: 0.8773 - val_loss: 0.4515 - val_accuracy: 0.8532\n",
            "Epoch 24/50\n",
            "782/782 [==============================] - 37s 47ms/step - loss: 0.3520 - accuracy: 0.8776 - val_loss: 0.4767 - val_accuracy: 0.8435\n",
            "Epoch 25/50\n",
            "782/782 [==============================] - 37s 47ms/step - loss: 0.3461 - accuracy: 0.8798 - val_loss: 0.5052 - val_accuracy: 0.8376\n",
            "Epoch 26/50\n",
            "782/782 [==============================] - 37s 47ms/step - loss: 0.3425 - accuracy: 0.8799 - val_loss: 0.4929 - val_accuracy: 0.8397\n",
            "Epoch 27/50\n",
            "782/782 [==============================] - 37s 47ms/step - loss: 0.3360 - accuracy: 0.8832 - val_loss: 0.4490 - val_accuracy: 0.8502\n",
            "Epoch 28/50\n",
            "782/782 [==============================] - 36s 47ms/step - loss: 0.3302 - accuracy: 0.8845 - val_loss: 0.4402 - val_accuracy: 0.8577\n",
            "Epoch 29/50\n",
            "782/782 [==============================] - 36s 46ms/step - loss: 0.3206 - accuracy: 0.8895 - val_loss: 0.4384 - val_accuracy: 0.8587\n",
            "Epoch 30/50\n",
            "782/782 [==============================] - 36s 46ms/step - loss: 0.3221 - accuracy: 0.8884 - val_loss: 0.4452 - val_accuracy: 0.8523\n",
            "Epoch 31/50\n",
            "782/782 [==============================] - 36s 46ms/step - loss: 0.3130 - accuracy: 0.8912 - val_loss: 0.5397 - val_accuracy: 0.8306\n",
            "Epoch 32/50\n",
            "782/782 [==============================] - 36s 46ms/step - loss: 0.3139 - accuracy: 0.8913 - val_loss: 0.4383 - val_accuracy: 0.8567\n",
            "Epoch 33/50\n",
            "782/782 [==============================] - 36s 46ms/step - loss: 0.3070 - accuracy: 0.8946 - val_loss: 0.4603 - val_accuracy: 0.8504\n",
            "Epoch 34/50\n",
            "782/782 [==============================] - 36s 46ms/step - loss: 0.3107 - accuracy: 0.8923 - val_loss: 0.4433 - val_accuracy: 0.8525\n",
            "Epoch 35/50\n",
            "782/782 [==============================] - 36s 46ms/step - loss: 0.2989 - accuracy: 0.8968 - val_loss: 0.4397 - val_accuracy: 0.8557\n",
            "Epoch 36/50\n",
            "782/782 [==============================] - 36s 46ms/step - loss: 0.3007 - accuracy: 0.8949 - val_loss: 0.4326 - val_accuracy: 0.8596\n",
            "Epoch 37/50\n",
            "782/782 [==============================] - 36s 46ms/step - loss: 0.2931 - accuracy: 0.8990 - val_loss: 0.4392 - val_accuracy: 0.8544\n",
            "Epoch 38/50\n",
            "782/782 [==============================] - 36s 46ms/step - loss: 0.2919 - accuracy: 0.8992 - val_loss: 0.4339 - val_accuracy: 0.8603\n",
            "Epoch 39/50\n",
            "782/782 [==============================] - 36s 46ms/step - loss: 0.2891 - accuracy: 0.8995 - val_loss: 0.4523 - val_accuracy: 0.8542\n",
            "Epoch 40/50\n",
            "782/782 [==============================] - 36s 46ms/step - loss: 0.2835 - accuracy: 0.9002 - val_loss: 0.4188 - val_accuracy: 0.8617\n",
            "Epoch 41/50\n",
            "782/782 [==============================] - 36s 46ms/step - loss: 0.2870 - accuracy: 0.9001 - val_loss: 0.4299 - val_accuracy: 0.8604\n",
            "Epoch 42/50\n",
            "782/782 [==============================] - 36s 46ms/step - loss: 0.2823 - accuracy: 0.9037 - val_loss: 0.4598 - val_accuracy: 0.8547\n",
            "Epoch 43/50\n",
            "782/782 [==============================] - 36s 46ms/step - loss: 0.2783 - accuracy: 0.9030 - val_loss: 0.4403 - val_accuracy: 0.8580\n",
            "Epoch 44/50\n",
            "782/782 [==============================] - 36s 46ms/step - loss: 0.2768 - accuracy: 0.9032 - val_loss: 0.4437 - val_accuracy: 0.8569\n",
            "Epoch 45/50\n",
            "782/782 [==============================] - 36s 46ms/step - loss: 0.2737 - accuracy: 0.9036 - val_loss: 0.4439 - val_accuracy: 0.8592\n",
            "Epoch 46/50\n",
            "782/782 [==============================] - 36s 46ms/step - loss: 0.2678 - accuracy: 0.9074 - val_loss: 0.4530 - val_accuracy: 0.8571\n",
            "Epoch 47/50\n",
            "782/782 [==============================] - 36s 46ms/step - loss: 0.2642 - accuracy: 0.9062 - val_loss: 0.4483 - val_accuracy: 0.8575\n",
            "Epoch 48/50\n",
            "782/782 [==============================] - 36s 46ms/step - loss: 0.2659 - accuracy: 0.9073 - val_loss: 0.4091 - val_accuracy: 0.8634\n",
            "Epoch 49/50\n",
            "782/782 [==============================] - 36s 46ms/step - loss: 0.2643 - accuracy: 0.9089 - val_loss: 0.4257 - val_accuracy: 0.8624\n",
            "Epoch 50/50\n",
            "782/782 [==============================] - 36s 46ms/step - loss: 0.2570 - accuracy: 0.9115 - val_loss: 0.4390 - val_accuracy: 0.8604\n"
          ]
        },
        {
          "data": {
            "text/plain": [
              "<keras.callbacks.History at 0x27807fba320>"
            ]
          },
          "execution_count": 22,
          "metadata": {},
          "output_type": "execute_result"
        }
      ],
      "source": [
        "seed = 21\n",
        "np.random.seed(seed)\n",
        "model.fit(x_train, y_train, validation_data=(x_test,y_test), epochs=epochs, batch_size=64)"
      ]
    },
    {
      "cell_type": "code",
      "execution_count": 23,
      "metadata": {
        "colab": {
          "background_save": true
        },
        "id": "xI6U75apuAEy",
        "outputId": "317a80fb-c65d-41e5-b2bf-fd644d7e2491"
      },
      "outputs": [
        {
          "name": "stdout",
          "output_type": "stream",
          "text": [
            "86.04000210762024\n"
          ]
        }
      ],
      "source": [
        "scores = model.evaluate(x_test, y_test, verbose = 0)\n",
        "print(scores[1]*100)"
      ]
    },
    {
      "cell_type": "code",
      "execution_count": null,
      "metadata": {
        "colab": {
          "background_save": true
        },
        "id": "hOjOhark4HsZ"
      },
      "outputs": [],
      "source": []
    }
  ],
  "metadata": {
    "colab": {
      "collapsed_sections": [],
      "name": "Image Recognition using CNN.ipynb",
      "provenance": []
    },
    "kernelspec": {
      "display_name": "Python 3",
      "name": "python3"
    },
    "language_info": {
      "codemirror_mode": {
        "name": "ipython",
        "version": 3
      },
      "file_extension": ".py",
      "mimetype": "text/x-python",
      "name": "python",
      "nbconvert_exporter": "python",
      "pygments_lexer": "ipython3",
      "version": "3.10.14"
    }
  },
  "nbformat": 4,
  "nbformat_minor": 0
}
