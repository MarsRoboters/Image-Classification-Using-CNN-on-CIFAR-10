{
 "cells": [
  {
   "cell_type": "code",
   "execution_count": 44,
   "metadata": {},
   "outputs": [],
   "source": [
    "import numpy as np\n",
    "import tensorflow as tf\n",
    "from keras.models import Sequential\n",
    "from keras.layers import Dense, Dropout, Flatten, BatchNormalization, Activation\n",
    "from keras.layers.convolutional import Conv2D, MaxPooling2D\n",
    "from keras.constraints import maxnorm\n",
    "from keras.utils import np_utils\n",
    "from keras.datasets import cifar10\n",
    "from keras.preprocessing.image import ImageDataGenerator\n",
    "from keras.callbacks import LearningRateScheduler, EarlyStopping\n",
    "import matplotlib.pyplot as plt"
   ]
  },
  {
   "cell_type": "code",
   "execution_count": 45,
   "metadata": {},
   "outputs": [
    {
     "name": "stdout",
     "output_type": "stream",
     "text": [
      "Num GPUs Available:  1\n"
     ]
    }
   ],
   "source": [
    "# Check if GPU is available\n",
    "print(\"Num GPUs Available: \", len(tf.config.list_physical_devices('GPU')))"
   ]
  },
  {
   "cell_type": "code",
   "execution_count": 46,
   "metadata": {},
   "outputs": [],
   "source": [
    "# Load CIFAR-10 dataset\n",
    "(x_train, y_train), (x_test, y_test) = cifar10.load_data()"
   ]
  },
  {
   "cell_type": "code",
   "execution_count": 47,
   "metadata": {},
   "outputs": [],
   "source": [
    "# Normalize the data\n",
    "x_train = x_train.astype('float32') / 255.0\n",
    "x_test = x_test.astype('float32') / 255.0"
   ]
  },
  {
   "cell_type": "code",
   "execution_count": 48,
   "metadata": {},
   "outputs": [],
   "source": [
    "# One-hot encode the labels\n",
    "y_train = np_utils.to_categorical(y_train)\n",
    "y_test = np_utils.to_categorical(y_test)\n",
    "class_num = y_test.shape[1]"
   ]
  },
  {
   "cell_type": "code",
   "execution_count": 49,
   "metadata": {},
   "outputs": [],
   "source": [
    "# Data augmentation\n",
    "datagen = ImageDataGenerator(\n",
    "    rotation_range=15,\n",
    "    width_shift_range=0.1,\n",
    "    height_shift_range=0.1,\n",
    "    horizontal_flip=True,\n",
    "    zoom_range=0.1\n",
    ")\n",
    "datagen.fit(x_train)"
   ]
  },
  {
   "cell_type": "code",
   "execution_count": 50,
   "metadata": {},
   "outputs": [],
   "source": [
    "# Define the model\n",
    "model = Sequential()\n",
    "model.add(Conv2D(32, (3,3), input_shape=x_train.shape[1:], padding='same'))\n",
    "model.add(Activation('relu'))\n",
    "model.add(Conv2D(32, (3,3), activation='relu', padding='same'))\n",
    "model.add(Dropout(0.2))\n",
    "model.add(BatchNormalization())\n",
    "model.add(Conv2D(64, (3,3), padding='same', activation='relu'))\n",
    "model.add(MaxPooling2D(pool_size=(2,2)))\n",
    "model.add(Dropout(0.2))\n",
    "model.add(BatchNormalization())\n",
    "model.add(Conv2D(64, (3,3), padding='same', activation='relu'))\n",
    "model.add(MaxPooling2D(pool_size=(2,2)))\n",
    "model.add(Dropout(0.2))\n",
    "model.add(BatchNormalization())\n",
    "model.add(Conv2D(128, (3,3), padding='same', activation='relu'))\n",
    "model.add(Dropout(0.2))\n",
    "model.add(BatchNormalization())\n",
    "model.add(Conv2D(256, (3,3), padding='same', activation='relu'))\n",
    "model.add(Dropout(0.2))\n",
    "model.add(BatchNormalization())\n",
    "model.add(Flatten())\n",
    "model.add(Dropout(0.2))\n",
    "model.add(Dense(256, kernel_constraint=maxnorm(3), activation='relu'))\n",
    "model.add(Dropout(0.2))\n",
    "model.add(BatchNormalization())\n",
    "model.add(Dense(128, kernel_constraint=maxnorm(3), activation='relu'))\n",
    "model.add(Dropout(0.2))\n",
    "model.add(BatchNormalization())\n",
    "model.add(Dense(class_num, activation='softmax'))"
   ]
  },
  {
   "cell_type": "code",
   "execution_count": 51,
   "metadata": {},
   "outputs": [
    {
     "name": "stdout",
     "output_type": "stream",
     "text": [
      "Model: \"sequential_3\"\n",
      "_________________________________________________________________\n",
      " Layer (type)                Output Shape              Param #   \n",
      "=================================================================\n",
      " conv2d_18 (Conv2D)          (None, 32, 32, 32)        896       \n",
      "                                                                 \n",
      " activation_3 (Activation)   (None, 32, 32, 32)        0         \n",
      "                                                                 \n",
      " conv2d_19 (Conv2D)          (None, 32, 32, 32)        9248      \n",
      "                                                                 \n",
      " dropout_24 (Dropout)        (None, 32, 32, 32)        0         \n",
      "                                                                 \n",
      " batch_normalization_21 (Bat  (None, 32, 32, 32)       128       \n",
      " chNormalization)                                                \n",
      "                                                                 \n",
      " conv2d_20 (Conv2D)          (None, 32, 32, 64)        18496     \n",
      "                                                                 \n",
      " max_pooling2d_6 (MaxPooling  (None, 16, 16, 64)       0         \n",
      " 2D)                                                             \n",
      "                                                                 \n",
      " dropout_25 (Dropout)        (None, 16, 16, 64)        0         \n",
      "                                                                 \n",
      " batch_normalization_22 (Bat  (None, 16, 16, 64)       256       \n",
      " chNormalization)                                                \n",
      "                                                                 \n",
      " conv2d_21 (Conv2D)          (None, 16, 16, 64)        36928     \n",
      "                                                                 \n",
      " max_pooling2d_7 (MaxPooling  (None, 8, 8, 64)         0         \n",
      " 2D)                                                             \n",
      "                                                                 \n",
      " dropout_26 (Dropout)        (None, 8, 8, 64)          0         \n",
      "                                                                 \n",
      " batch_normalization_23 (Bat  (None, 8, 8, 64)         256       \n",
      " chNormalization)                                                \n",
      "                                                                 \n",
      " conv2d_22 (Conv2D)          (None, 8, 8, 128)         73856     \n",
      "                                                                 \n",
      " dropout_27 (Dropout)        (None, 8, 8, 128)         0         \n",
      "                                                                 \n",
      " batch_normalization_24 (Bat  (None, 8, 8, 128)        512       \n",
      " chNormalization)                                                \n",
      "                                                                 \n",
      " conv2d_23 (Conv2D)          (None, 8, 8, 256)         295168    \n",
      "                                                                 \n",
      " dropout_28 (Dropout)        (None, 8, 8, 256)         0         \n",
      "                                                                 \n",
      " batch_normalization_25 (Bat  (None, 8, 8, 256)        1024      \n",
      " chNormalization)                                                \n",
      "                                                                 \n",
      " flatten_3 (Flatten)         (None, 16384)             0         \n",
      "                                                                 \n",
      " dropout_29 (Dropout)        (None, 16384)             0         \n",
      "                                                                 \n",
      " dense_9 (Dense)             (None, 256)               4194560   \n",
      "                                                                 \n",
      " dropout_30 (Dropout)        (None, 256)               0         \n",
      "                                                                 \n",
      " batch_normalization_26 (Bat  (None, 256)              1024      \n",
      " chNormalization)                                                \n",
      "                                                                 \n",
      " dense_10 (Dense)            (None, 128)               32896     \n",
      "                                                                 \n",
      " dropout_31 (Dropout)        (None, 128)               0         \n",
      "                                                                 \n",
      " batch_normalization_27 (Bat  (None, 128)              512       \n",
      " chNormalization)                                                \n",
      "                                                                 \n",
      " dense_11 (Dense)            (None, 10)                1290      \n",
      "                                                                 \n",
      "=================================================================\n",
      "Total params: 4,667,050\n",
      "Trainable params: 4,665,194\n",
      "Non-trainable params: 1,856\n",
      "_________________________________________________________________\n",
      "None\n"
     ]
    }
   ],
   "source": [
    "# Compile the model\n",
    "optimizer = 'adam'\n",
    "model.compile(loss='categorical_crossentropy', optimizer=optimizer, metrics=['accuracy'])\n",
    "print(model.summary())"
   ]
  },
  {
   "cell_type": "code",
   "execution_count": 52,
   "metadata": {},
   "outputs": [],
   "source": [
    "# Learning rate scheduler\n",
    "def lr_schedule(epoch):\n",
    "    lr = 1e-3\n",
    "    if epoch > 10:\n",
    "        lr *= 0.5\n",
    "    if epoch > 20:\n",
    "        lr *= 0.5\n",
    "    return lr\n",
    "\n",
    "lr_scheduler = LearningRateScheduler(lr_schedule)"
   ]
  },
  {
   "cell_type": "code",
   "execution_count": 53,
   "metadata": {},
   "outputs": [],
   "source": [
    "# Early stopping\n",
    "early_stopping = EarlyStopping(monitor='val_loss', patience=5)"
   ]
  },
  {
   "cell_type": "code",
   "execution_count": 54,
   "metadata": {},
   "outputs": [
    {
     "name": "stdout",
     "output_type": "stream",
     "text": [
      "Epoch 1/50\n",
      "782/782 [==============================] - 13s 15ms/step - loss: 1.6512 - accuracy: 0.4081 - val_loss: 1.3250 - val_accuracy: 0.5525 - lr: 0.0010\n",
      "Epoch 2/50\n",
      "782/782 [==============================] - 11s 14ms/step - loss: 1.2080 - accuracy: 0.5686 - val_loss: 1.1549 - val_accuracy: 0.6102 - lr: 0.0010\n",
      "Epoch 3/50\n",
      "782/782 [==============================] - 11s 15ms/step - loss: 1.0101 - accuracy: 0.6437 - val_loss: 0.8378 - val_accuracy: 0.7068 - lr: 0.0010\n",
      "Epoch 4/50\n",
      "782/782 [==============================] - 11s 14ms/step - loss: 0.9151 - accuracy: 0.6800 - val_loss: 0.8566 - val_accuracy: 0.7080 - lr: 0.0010\n",
      "Epoch 5/50\n",
      "782/782 [==============================] - 11s 14ms/step - loss: 0.8506 - accuracy: 0.7044 - val_loss: 0.8434 - val_accuracy: 0.7033 - lr: 0.0010\n",
      "Epoch 6/50\n",
      "782/782 [==============================] - 12s 15ms/step - loss: 0.8060 - accuracy: 0.7202 - val_loss: 0.6845 - val_accuracy: 0.7617 - lr: 0.0010\n",
      "Epoch 7/50\n",
      "782/782 [==============================] - 12s 15ms/step - loss: 0.7761 - accuracy: 0.7316 - val_loss: 0.6848 - val_accuracy: 0.7709 - lr: 0.0010\n",
      "Epoch 8/50\n",
      "782/782 [==============================] - 11s 14ms/step - loss: 0.7442 - accuracy: 0.7440 - val_loss: 0.6223 - val_accuracy: 0.7865 - lr: 0.0010\n",
      "Epoch 9/50\n",
      "782/782 [==============================] - 11s 14ms/step - loss: 0.7263 - accuracy: 0.7500 - val_loss: 0.6348 - val_accuracy: 0.7861 - lr: 0.0010\n",
      "Epoch 10/50\n",
      "782/782 [==============================] - 12s 15ms/step - loss: 0.7055 - accuracy: 0.7573 - val_loss: 0.5876 - val_accuracy: 0.8003 - lr: 0.0010\n",
      "Epoch 11/50\n",
      "782/782 [==============================] - 11s 15ms/step - loss: 0.6812 - accuracy: 0.7662 - val_loss: 0.5425 - val_accuracy: 0.8137 - lr: 0.0010\n",
      "Epoch 12/50\n",
      "782/782 [==============================] - 11s 14ms/step - loss: 0.6164 - accuracy: 0.7900 - val_loss: 0.5271 - val_accuracy: 0.8215 - lr: 5.0000e-04\n",
      "Epoch 13/50\n",
      "782/782 [==============================] - 12s 15ms/step - loss: 0.5909 - accuracy: 0.7955 - val_loss: 0.5655 - val_accuracy: 0.8114 - lr: 5.0000e-04\n",
      "Epoch 14/50\n",
      "782/782 [==============================] - 11s 14ms/step - loss: 0.5740 - accuracy: 0.8041 - val_loss: 0.5315 - val_accuracy: 0.8189 - lr: 5.0000e-04\n",
      "Epoch 15/50\n",
      "782/782 [==============================] - 11s 14ms/step - loss: 0.5610 - accuracy: 0.8060 - val_loss: 0.4947 - val_accuracy: 0.8324 - lr: 5.0000e-04\n",
      "Epoch 16/50\n",
      "782/782 [==============================] - 11s 14ms/step - loss: 0.5517 - accuracy: 0.8099 - val_loss: 0.4999 - val_accuracy: 0.8291 - lr: 5.0000e-04\n",
      "Epoch 17/50\n",
      "782/782 [==============================] - 11s 14ms/step - loss: 0.5460 - accuracy: 0.8113 - val_loss: 0.4926 - val_accuracy: 0.8342 - lr: 5.0000e-04\n",
      "Epoch 18/50\n",
      "782/782 [==============================] - 12s 15ms/step - loss: 0.5365 - accuracy: 0.8162 - val_loss: 0.4902 - val_accuracy: 0.8330 - lr: 5.0000e-04\n",
      "Epoch 19/50\n",
      "782/782 [==============================] - 12s 15ms/step - loss: 0.5246 - accuracy: 0.8200 - val_loss: 0.4820 - val_accuracy: 0.8368 - lr: 5.0000e-04\n",
      "Epoch 20/50\n",
      "782/782 [==============================] - 12s 15ms/step - loss: 0.5243 - accuracy: 0.8212 - val_loss: 0.4672 - val_accuracy: 0.8419 - lr: 5.0000e-04\n",
      "Epoch 21/50\n",
      "782/782 [==============================] - 11s 14ms/step - loss: 0.5164 - accuracy: 0.8219 - val_loss: 0.4920 - val_accuracy: 0.8334 - lr: 5.0000e-04\n",
      "Epoch 22/50\n",
      "782/782 [==============================] - 11s 15ms/step - loss: 0.4850 - accuracy: 0.8341 - val_loss: 0.4326 - val_accuracy: 0.8541 - lr: 2.5000e-04\n",
      "Epoch 23/50\n",
      "782/782 [==============================] - 11s 14ms/step - loss: 0.4673 - accuracy: 0.8393 - val_loss: 0.4272 - val_accuracy: 0.8561 - lr: 2.5000e-04\n",
      "Epoch 24/50\n",
      "782/782 [==============================] - 11s 14ms/step - loss: 0.4663 - accuracy: 0.8397 - val_loss: 0.4303 - val_accuracy: 0.8565 - lr: 2.5000e-04\n",
      "Epoch 25/50\n",
      "782/782 [==============================] - 11s 15ms/step - loss: 0.4546 - accuracy: 0.8418 - val_loss: 0.3948 - val_accuracy: 0.8649 - lr: 2.5000e-04\n",
      "Epoch 26/50\n",
      "782/782 [==============================] - 11s 15ms/step - loss: 0.4495 - accuracy: 0.8445 - val_loss: 0.4284 - val_accuracy: 0.8544 - lr: 2.5000e-04\n",
      "Epoch 27/50\n",
      "782/782 [==============================] - 12s 15ms/step - loss: 0.4439 - accuracy: 0.8457 - val_loss: 0.3881 - val_accuracy: 0.8712 - lr: 2.5000e-04\n",
      "Epoch 28/50\n",
      "782/782 [==============================] - 11s 14ms/step - loss: 0.4356 - accuracy: 0.8494 - val_loss: 0.3813 - val_accuracy: 0.8715 - lr: 2.5000e-04\n",
      "Epoch 29/50\n",
      "782/782 [==============================] - 11s 14ms/step - loss: 0.4258 - accuracy: 0.8513 - val_loss: 0.3979 - val_accuracy: 0.8648 - lr: 2.5000e-04\n",
      "Epoch 30/50\n",
      "782/782 [==============================] - 11s 14ms/step - loss: 0.4232 - accuracy: 0.8542 - val_loss: 0.4035 - val_accuracy: 0.8630 - lr: 2.5000e-04\n",
      "Epoch 31/50\n",
      "782/782 [==============================] - 11s 14ms/step - loss: 0.4188 - accuracy: 0.8550 - val_loss: 0.4043 - val_accuracy: 0.8649 - lr: 2.5000e-04\n",
      "Epoch 32/50\n",
      "782/782 [==============================] - 12s 15ms/step - loss: 0.4223 - accuracy: 0.8544 - val_loss: 0.3962 - val_accuracy: 0.8659 - lr: 2.5000e-04\n",
      "Epoch 33/50\n",
      "782/782 [==============================] - 11s 15ms/step - loss: 0.4172 - accuracy: 0.8558 - val_loss: 0.4267 - val_accuracy: 0.8577 - lr: 2.5000e-04\n"
     ]
    }
   ],
   "source": [
    "# Train the model\n",
    "history = model.fit(datagen.flow(x_train, y_train, batch_size=64),\n",
    "                    validation_data=(x_test, y_test),\n",
    "                    epochs=50,\n",
    "                    callbacks=[lr_scheduler, early_stopping])"
   ]
  },
  {
   "cell_type": "code",
   "execution_count": 57,
   "metadata": {},
   "outputs": [
    {
     "name": "stdout",
     "output_type": "stream",
     "text": [
      "Accuracy: 85.77%\n"
     ]
    }
   ],
   "source": [
    "# Evaluate the model\n",
    "scores = model.evaluate(x_test, y_test, verbose=0)\n",
    "print(f\"Accuracy: {scores[1]*100:.2f}%\")"
   ]
  },
  {
   "cell_type": "code",
   "execution_count": 58,
   "metadata": {},
   "outputs": [
    {
     "data": {
      "image/png": "[encoded data removed]",
      "text/plain": [
       "<Figure size 1200x400 with 2 Axes>"
      ]
     },
     "metadata": {},
     "output_type": "display_data"
    }
   ],
   "source": [
    "# Plot training & validation accuracy values\n",
    "plt.figure(figsize=(12, 4))\n",
    "plt.subplot(1, 2, 1)\n",
    "plt.plot(history.history['accuracy'])\n",
    "plt.plot(history.history['val_accuracy'])\n",
    "plt.title('Model accuracy')\n",
    "plt.ylabel('Accuracy')\n",
    "plt.xlabel('Epoch')\n",
    "plt.legend(['Train', 'Test'], loc='upper left')\n",
    "\n",
    "# Plot training & validation loss values\n",
    "plt.subplot(1, 2, 2)\n",
    "plt.plot(history.history['loss'])\n",
    "plt.plot(history.history['val_loss'])\n",
    "plt.title('Model loss')\n",
    "plt.ylabel('Loss')\n",
    "plt.xlabel('Epoch')\n",
    "plt.legend(['Train', 'Test'], loc='upper left')\n",
    "\n",
    "plt.show()"
   ]
  },
  {
   "cell_type": "code",
   "execution_count": null,
   "metadata": {},
   "outputs": [],
   "source": []
  },
  {
   "cell_type": "code",
   "execution_count": 15,
   "metadata": {},
   "outputs": [],
   "source": []
  }
 ],
 "metadata": {
  "kernelspec": {
   "display_name": "pytorch_env",
   "language": "python",
   "name": "python3"
  },
  "language_info": {
   "codemirror_mode": {
    "name": "ipython",
    "version": 3
   },
   "file_extension": ".py",
   "mimetype": "text/x-python",
   "name": "python",
   "nbconvert_exporter": "python",
   "pygments_lexer": "ipython3",
   "version": "3.9.19"
  }
 },
 "nbformat": 4,
 "nbformat_minor": 2
}
